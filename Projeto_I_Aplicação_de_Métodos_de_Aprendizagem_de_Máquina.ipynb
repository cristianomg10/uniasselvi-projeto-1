{
  "nbformat": 4,
  "nbformat_minor": 0,
  "metadata": {
    "colab": {
      "name": "Projeto I - Aplicação de Métodos de Aprendizagem de Máquina",
      "provenance": [],
      "collapsed_sections": [],
      "machine_shape": "hm",
      "mount_file_id": "1j2JRHBYwm4HKUwx6nKKysHxzsdpQTT3K",
      "authorship_tag": "ABX9TyPdfc9B1AeVszsg1bT4kDWS",
      "include_colab_link": true
    },
    "kernelspec": {
      "name": "python3",
      "display_name": "Python 3"
    },
    "language_info": {
      "name": "python"
    }
  },
  "cells": [
    {
      "cell_type": "markdown",
      "metadata": {
        "id": "view-in-github",
        "colab_type": "text"
      },
      "source": [
        "<a href=\"https://colab.research.google.com/github/cristianomg10/uniasselvi-projeto-1/blob/etapa2/Projeto_I_Aplica%C3%A7%C3%A3o_de_M%C3%A9todos_de_Aprendizagem_de_M%C3%A1quina.ipynb\" target=\"_parent\"><img src=\"https://colab.research.google.com/assets/colab-badge.svg\" alt=\"Open In Colab\"/></a>"
      ]
    },
    {
      "cell_type": "markdown",
      "source": [
        "# Projeto I - Aplicação de Métodos de Aprendizagem de Máquina\n",
        "\n",
        "**Estudante**: Cristiano M. Garcia (Matrícula: 2874011)\n",
        "\n",
        "**Curso**: Big Data e Inteligência Analítica\n",
        "\n",
        "\n"
      ],
      "metadata": {
        "id": "aXKbF_dlefbt"
      }
    },
    {
      "cell_type": "markdown",
      "source": [
        "## Introdução e Fundamentação Teórica\n",
        "\n"
      ],
      "metadata": {
        "id": "WCB1mwvk91EO"
      }
    },
    {
      "cell_type": "markdown",
      "source": [
        "### Definição do Tema\n",
        "A análise de sentimentos constitui uma tarefa fundamental para empresas e instituições que querem fazer um acompanhamento mais preciso em relação à opinião sobre seus produtos/serviços. Muitas vezes, a avaliação categórica por parte do usuário (por exemplo, em sites que permitem a avaliação pelo número de estrelas, de 1 a 5) pode ser enganosa. Com frequência, pode-se encontrar informações conflitantes, em que o texto tem um sentimento e a avaliação, um \"sentimento\" oposto. Por exemplo: \"Amei\", categorizado em 1 estrela. Desta forma, quando possível, uma avaliação considerando o texto fornecido na avaliação pode fornecer informações mais precisas sobre a opinião em relação ao produto.\n",
        "\n"
      ],
      "metadata": {
        "id": "viJTVKU3943E"
      }
    },
    {
      "cell_type": "markdown",
      "source": [
        "### Objetivo\n",
        "Neste projeto, será realizado a geração de um modelo de classificação utilizando o conjunto de dados de **IMDB Movie Rating**. Para ser mais específico, a ideia é realizar uma análise de sentimentos, ou seja, de acordo com o texto, o modelo deverá retornar **0 ou 1**, sendo 0 para negativo e 1, positivo.\n",
        "\n"
      ],
      "metadata": {
        "id": "BRPvL8_P97Q8"
      }
    },
    {
      "cell_type": "markdown",
      "source": [
        "### Especificação Técnica\n",
        "O conjunto de dados está no formato _.csv_ e é relativamente simples, contendo apenas 2 colunas:\n",
        "* **text**, correspondendo ao texto digitado na review;\n",
        "* **label**, que corresponde ao sentimento em si (0 - negativo, 1 - positivo)\n",
        "\n",
        "Este conjunto de dados foi obtido no [Kaggle](https://www.kaggle.com/datasets/yasserh/imdb-movie-ratings-sentiment-analysis). Ele contém 39723 registros e está balanceado quase em 50%/50%, sendo 20019 registros negativos e 19981 registros positivos. Esse balanceamento já é de grande ajuda para os algoritmos de aprendizado de máquina, pois dados desbalanceados costumam confundir até mesmo a avaliação de performance.\n",
        "\n",
        "Serão utilizados os algoritmos Regressão Logística, KNN, Floresta Aleatória e (Long Short Term Memory) LSTM.\n",
        "\n"
      ],
      "metadata": {
        "id": "tMHfoNjV99Mr"
      }
    },
    {
      "cell_type": "markdown",
      "source": [
        "#### Pré-processamento\n",
        "A base será pré-processada, removendo pontuação, convertendo todos os números para um único número, todas as palavras serão convertidas para minúsculo.\n",
        "\n",
        "Haverá algumas diferenças:\n",
        "1. Para abordagens rasas (Regressão Logística, KNN e Floresta Aleatória), será utilizado Lemmatização e Stemming (não simultaneamente) para padronização das palavras. Além disso, as stopwords serão removidas. Será utilizando ainda transformação para Bag-of-Words e TF-IDF;\n",
        "2. Para a abordagem _deep_ (LSTM), não haverá o pré-processamento mencionado no item 1, pois as mesmas não são utilizados com _Deep Learning_.\n",
        "\n"
      ],
      "metadata": {
        "id": "jMvZFw_p-AzD"
      }
    },
    {
      "cell_type": "markdown",
      "source": [
        "#### Tarefa de Aprendizado de Máquina\n",
        "A tarefa de Aprendizado de Máquina adequada para este trabalho é a **classificação**.\n",
        "\n"
      ],
      "metadata": {
        "id": "rFFlGJux-DRM"
      }
    },
    {
      "cell_type": "markdown",
      "source": [
        "#### Avaliação \n",
        "\n",
        "Os algoritmos serão avaliados em termos de acurácia, precisão, revocação e F1-score, sendo estas métricas adequadas para tarefas de **classificação**.\n",
        "\n"
      ],
      "metadata": {
        "id": "9CTWhYzj-Gn9"
      }
    },
    {
      "cell_type": "markdown",
      "source": [
        "### Trabalhos Relacionados\n",
        "\n",
        "Pesquisando alguns trabalhos relacionados, como o trabalho [1], que utilizou o mesmo dataset em uma versão mais antiga, com 40000 registros, abordagens de *Deep Learning* foram testadas (CNN, LSTM e a combinação de ambos), sendo a combinação a única a ultrapassar 90% de Precisão e pouco mais de 85% de F1-Score. Outro trabalho [2] comparou SVM, Maximum Entropy, Naïve Bayes e KNN, sendo a abordagem mais performática o Maximum Entropy. Já o trabalho [3] utilizou combinações de componentes de *Deep Learning* para gerar diferentes arquiteturas, em que alcançou um resultado de acurácia de 89.5%. Vários outros trabalhos podem ser encontrados na Literatura.\n",
        "\n",
        "Conhecer alguns trabalhos relacionados ajuda na definição de um *baseline* e em um posicionamento das expectativas a serem alcançadas. Neste sentido, o único trabalho dos 3 acima que utilizou abordagens não-Deep (*shallow*) foi o [1], em que Naïve Bayes atingiu quase 90% de acurácia e SVM ficou próximo de 75%.\n",
        "\n"
      ],
      "metadata": {
        "id": "njye8rTn-I8O"
      }
    },
    {
      "cell_type": "markdown",
      "source": [
        "## Referências (deveria estar no fim mas acho que não tem problema)\n",
        "\n",
        "[1] REHMAN, Anwar Ur et al. A hybrid CNN-LSTM model for improving accuracy of movie reviews sentiment analysis. Multimedia Tools and Applications, v. 78, n. 18, p. 26597-26613, 2019.\n",
        "\n",
        "[2] KUMAR, H. M.; HARISH, B. S.; DARSHAN, H. K. Sentiment Analysis on IMDb Movie Reviews Using Hybrid Feature Extraction Method. International Journal of Interactive Multimedia & Artificial Intelligence, v. 5, n. 5, 2019.\n",
        "\n",
        "[3] YENTER, Alec; VERMA, Abhishek. Deep CNN-LSTM with combined kernels from multiple branches for IMDb review sentiment analysis. In: 2017 IEEE 8th Annual Ubiquitous Computing, Electronics and Mobile Communication Conference (UEMCON). IEEE, 2017. p. 540-546."
      ],
      "metadata": {
        "id": "sPydDqKU-LIb"
      }
    },
    {
      "cell_type": "markdown",
      "source": [
        "## Metodologia"
      ],
      "metadata": {
        "id": "iMo9Nwzd9ppJ"
      }
    },
    {
      "cell_type": "markdown",
      "source": [
        "A Metodologia seguirá os seguintes passos, conforme já mencionado acima:\n",
        "* Pré-processamento;\n",
        "* Treinamento dos modelos de aprendizado de máquina;\n",
        "* Avaliação\n",
        "\n",
        "Como pré-processamento para o uso de Naïve Bayes, Floresta Aleatória e KNN, será realizado o seguinte pré-processamento. \n",
        "\n",
        "* Remoção de pontuação;\n",
        "* Conversão para lowercase (minúsculo);\n",
        "* Remoção de stopwords;\n",
        "* Uso de stemming;\n",
        "* Conversão de números para um único número;\n",
        "* Aplicação de BagOfWords e TF-IDF;\n",
        "* Aplicaçao de PCA.\n",
        "\n",
        "Os métodos serão executados 5 vezes cada, com diferentes random_state"
      ],
      "metadata": {
        "id": "bBCjuSRf-Qxy"
      }
    },
    {
      "cell_type": "markdown",
      "source": [
        "## Etapa 2"
      ],
      "metadata": {
        "id": "6VLdHNc-Qtlv"
      }
    },
    {
      "cell_type": "markdown",
      "source": [
        "### Conexão com a base de dados (Carregamento dos dados)"
      ],
      "metadata": {
        "id": "EHcxinvuQzDZ"
      }
    },
    {
      "cell_type": "code",
      "source": [
        "!unzip \"/content/drive/MyDrive/Datasets/imdb.zip\""
      ],
      "metadata": {
        "colab": {
          "base_uri": "https://localhost:8080/"
        },
        "id": "FNE7CagSRDv2",
        "outputId": "e5120a20-14eb-4c9f-9fd5-b41d4b1c3b39"
      },
      "execution_count": 1,
      "outputs": [
        {
          "output_type": "stream",
          "name": "stdout",
          "text": [
            "Archive:  /content/drive/MyDrive/Datasets/imdb.zip\n",
            "  inflating: movie.csv               \n"
          ]
        }
      ]
    },
    {
      "cell_type": "code",
      "execution_count": 2,
      "metadata": {
        "id": "I1xB2aSrcpW2",
        "colab": {
          "base_uri": "https://localhost:8080/",
          "height": 206
        },
        "outputId": "42c3eeac-c396-4c0f-a4f1-bf390fce7f94"
      },
      "outputs": [
        {
          "output_type": "execute_result",
          "data": {
            "text/plain": [
              "                                                text  label\n",
              "0  I grew up (b. 1965) watching and loving the Th...      0\n",
              "1  When I put this movie in my DVD player, and sa...      0\n",
              "2  Why do people who do not know what a particula...      0\n",
              "3  Even though I have great interest in Biblical ...      0\n",
              "4  Im a die hard Dads Army fan and nothing will e...      1"
            ],
            "text/html": [
              "\n",
              "  <div id=\"df-7bbe2708-df03-414f-9e3e-7c20d038f393\">\n",
              "    <div class=\"colab-df-container\">\n",
              "      <div>\n",
              "<style scoped>\n",
              "    .dataframe tbody tr th:only-of-type {\n",
              "        vertical-align: middle;\n",
              "    }\n",
              "\n",
              "    .dataframe tbody tr th {\n",
              "        vertical-align: top;\n",
              "    }\n",
              "\n",
              "    .dataframe thead th {\n",
              "        text-align: right;\n",
              "    }\n",
              "</style>\n",
              "<table border=\"1\" class=\"dataframe\">\n",
              "  <thead>\n",
              "    <tr style=\"text-align: right;\">\n",
              "      <th></th>\n",
              "      <th>text</th>\n",
              "      <th>label</th>\n",
              "    </tr>\n",
              "  </thead>\n",
              "  <tbody>\n",
              "    <tr>\n",
              "      <th>0</th>\n",
              "      <td>I grew up (b. 1965) watching and loving the Th...</td>\n",
              "      <td>0</td>\n",
              "    </tr>\n",
              "    <tr>\n",
              "      <th>1</th>\n",
              "      <td>When I put this movie in my DVD player, and sa...</td>\n",
              "      <td>0</td>\n",
              "    </tr>\n",
              "    <tr>\n",
              "      <th>2</th>\n",
              "      <td>Why do people who do not know what a particula...</td>\n",
              "      <td>0</td>\n",
              "    </tr>\n",
              "    <tr>\n",
              "      <th>3</th>\n",
              "      <td>Even though I have great interest in Biblical ...</td>\n",
              "      <td>0</td>\n",
              "    </tr>\n",
              "    <tr>\n",
              "      <th>4</th>\n",
              "      <td>Im a die hard Dads Army fan and nothing will e...</td>\n",
              "      <td>1</td>\n",
              "    </tr>\n",
              "  </tbody>\n",
              "</table>\n",
              "</div>\n",
              "      <button class=\"colab-df-convert\" onclick=\"convertToInteractive('df-7bbe2708-df03-414f-9e3e-7c20d038f393')\"\n",
              "              title=\"Convert this dataframe to an interactive table.\"\n",
              "              style=\"display:none;\">\n",
              "        \n",
              "  <svg xmlns=\"http://www.w3.org/2000/svg\" height=\"24px\"viewBox=\"0 0 24 24\"\n",
              "       width=\"24px\">\n",
              "    <path d=\"M0 0h24v24H0V0z\" fill=\"none\"/>\n",
              "    <path d=\"M18.56 5.44l.94 2.06.94-2.06 2.06-.94-2.06-.94-.94-2.06-.94 2.06-2.06.94zm-11 1L8.5 8.5l.94-2.06 2.06-.94-2.06-.94L8.5 2.5l-.94 2.06-2.06.94zm10 10l.94 2.06.94-2.06 2.06-.94-2.06-.94-.94-2.06-.94 2.06-2.06.94z\"/><path d=\"M17.41 7.96l-1.37-1.37c-.4-.4-.92-.59-1.43-.59-.52 0-1.04.2-1.43.59L10.3 9.45l-7.72 7.72c-.78.78-.78 2.05 0 2.83L4 21.41c.39.39.9.59 1.41.59.51 0 1.02-.2 1.41-.59l7.78-7.78 2.81-2.81c.8-.78.8-2.07 0-2.86zM5.41 20L4 18.59l7.72-7.72 1.47 1.35L5.41 20z\"/>\n",
              "  </svg>\n",
              "      </button>\n",
              "      \n",
              "  <style>\n",
              "    .colab-df-container {\n",
              "      display:flex;\n",
              "      flex-wrap:wrap;\n",
              "      gap: 12px;\n",
              "    }\n",
              "\n",
              "    .colab-df-convert {\n",
              "      background-color: #E8F0FE;\n",
              "      border: none;\n",
              "      border-radius: 50%;\n",
              "      cursor: pointer;\n",
              "      display: none;\n",
              "      fill: #1967D2;\n",
              "      height: 32px;\n",
              "      padding: 0 0 0 0;\n",
              "      width: 32px;\n",
              "    }\n",
              "\n",
              "    .colab-df-convert:hover {\n",
              "      background-color: #E2EBFA;\n",
              "      box-shadow: 0px 1px 2px rgba(60, 64, 67, 0.3), 0px 1px 3px 1px rgba(60, 64, 67, 0.15);\n",
              "      fill: #174EA6;\n",
              "    }\n",
              "\n",
              "    [theme=dark] .colab-df-convert {\n",
              "      background-color: #3B4455;\n",
              "      fill: #D2E3FC;\n",
              "    }\n",
              "\n",
              "    [theme=dark] .colab-df-convert:hover {\n",
              "      background-color: #434B5C;\n",
              "      box-shadow: 0px 1px 3px 1px rgba(0, 0, 0, 0.15);\n",
              "      filter: drop-shadow(0px 1px 2px rgba(0, 0, 0, 0.3));\n",
              "      fill: #FFFFFF;\n",
              "    }\n",
              "  </style>\n",
              "\n",
              "      <script>\n",
              "        const buttonEl =\n",
              "          document.querySelector('#df-7bbe2708-df03-414f-9e3e-7c20d038f393 button.colab-df-convert');\n",
              "        buttonEl.style.display =\n",
              "          google.colab.kernel.accessAllowed ? 'block' : 'none';\n",
              "\n",
              "        async function convertToInteractive(key) {\n",
              "          const element = document.querySelector('#df-7bbe2708-df03-414f-9e3e-7c20d038f393');\n",
              "          const dataTable =\n",
              "            await google.colab.kernel.invokeFunction('convertToInteractive',\n",
              "                                                     [key], {});\n",
              "          if (!dataTable) return;\n",
              "\n",
              "          const docLinkHtml = 'Like what you see? Visit the ' +\n",
              "            '<a target=\"_blank\" href=https://colab.research.google.com/notebooks/data_table.ipynb>data table notebook</a>'\n",
              "            + ' to learn more about interactive tables.';\n",
              "          element.innerHTML = '';\n",
              "          dataTable['output_type'] = 'display_data';\n",
              "          await google.colab.output.renderOutput(dataTable, element);\n",
              "          const docLink = document.createElement('div');\n",
              "          docLink.innerHTML = docLinkHtml;\n",
              "          element.appendChild(docLink);\n",
              "        }\n",
              "      </script>\n",
              "    </div>\n",
              "  </div>\n",
              "  "
            ]
          },
          "metadata": {},
          "execution_count": 2
        }
      ],
      "source": [
        "import pandas as pd\n",
        "\n",
        "df = pd.read_csv(\"movie.csv\")\n",
        "df.head()"
      ]
    },
    {
      "cell_type": "markdown",
      "source": [
        "### Exibição de trechos de dados (Análise exploratória)"
      ],
      "metadata": {
        "id": "AjeKe958RSjA"
      }
    },
    {
      "cell_type": "code",
      "source": [
        "import seaborn as sns\n",
        "import matplotlib.pyplot as plt\n",
        "\n",
        "ax = sns.countplot(data=df, x=\"label\")\n",
        "\n",
        "# remover os riscos que atrapalham a visualização das porcentagens\n",
        "ax.spines[\"top\"].set_visible(False)\n",
        "ax.spines[\"right\"].set_visible(False)\n",
        "\n",
        "# agrupado para capturar as porcentagens\n",
        "group = df.groupby(by=['label']).count().unstack(fill_value=0).reset_index()\n",
        "group.rename({0: 'count'}, axis=1, inplace=True)\n",
        "\n",
        "for index, row in group.iterrows():\n",
        "    ax.text(index, row['count'], f\"{(row['count'] / len(df) * 100):.2f}%\", color='black', ha=\"center\", va=\"bottom\", fontsize=18);"
      ],
      "metadata": {
        "colab": {
          "base_uri": "https://localhost:8080/",
          "height": 287
        },
        "id": "JGcqAyy_RV3_",
        "outputId": "5b30a4d4-2534-40d2-fcb5-178c0022afbf"
      },
      "execution_count": 3,
      "outputs": [
        {
          "output_type": "display_data",
          "data": {
            "text/plain": [
              "<Figure size 432x288 with 1 Axes>"
            ],
            "image/png": "[encoded data removed]"
          },
          "metadata": {
            "needs_background": "light"
          }
        }
      ]
    },
    {
      "cell_type": "markdown",
      "source": [
        "Como dito anteriormente, o conjunto de dados é quase balanceado em 50%/50%, sendo um pouco de mais *reviews* negativos que positivos.\n",
        "\n",
        "Vamos ver alguns exemplos de *reviews* negativos e *reviews* positivos."
      ],
      "metadata": {
        "id": "QLex6z-gRiq9"
      }
    },
    {
      "cell_type": "code",
      "source": [
        "df[ df['label'] == 0 ]['text'].sample(5).values # negativos"
      ],
      "metadata": {
        "colab": {
          "base_uri": "https://localhost:8080/"
        },
        "id": "EwaXUNarY7M_",
        "outputId": "c773550c-222b-4725-aa11-29b428e91671"
      },
      "execution_count": 4,
      "outputs": [
        {
          "output_type": "execute_result",
          "data": {
            "text/plain": [
              "array([\"I don't usually like TV movies, I reckon that if the thing was any good it would make it to Hollywood. This one though is better than average, pretty high production values, a few interesting story twists and some nice shots of NYC (along with Toronto) hold the interest.\",\n",
              "       \"The Mad Monster starts in Dr. Lorenzo Cameron's (George Zucco) laboratory as he perfects his discovery of how to turn a human being into a vicious wolf like monster by injecting animal blood into a human subject who happens to be his dim-witted servant Petro (Glenn Strange), apparently he plans to put the serum at the disposal of the war department who will use it to create an unstoppable army of these monsters, the ultimate soldier! However, first things first as Dr. Cameron has his sights set on some sweet revenge on the people who dismissed his experiments, forced him to resign & subjected him to public ridicule. Dr. Cameron puts his plan into action & uses his monstrous creation to murder Professor Blaine (Robert Strange), in an unfortunate turn of events Dr. Cameron is unable to control the beast & is spotted by a local farmer Jed Harper (Eddie Holden) who spreads the news like wildfire, in another unfortunate coincidence a reporter named Tom Gregory (Johnny Downs) gets wind of the story & starts to investigate, he starts to suspect Dr. Cameron & since Gregory is going out with his daughter Lenora (Ann Nagel) he has plenty of opportunity to sniff around...<br /><br />Directed by Sam Newfield this is really low budget stuff from the 40's, even worse it's dull unoriginal low budget stuff. The script by Fred Myton drags the extremely thin premise out to almost 77 minutes which is far too long, there is no variety in the story & it's basically the same thing over & over. The character's are dull clichés, the mad scientist who conducts pointless experiments that create a monster, the fragile pretty daughter, the reporter who plays the hero & by pure coincidence happens to both be investigating the mysterious deaths said mad scientist is responsible for & is romantically involved with his daughter, the dumb servant, stupid idiotic police & stereotypical shotgun wielding farmers who are always accused of being drunk. This was probably clichéd even back in 1942! The film plods along at a fairly slow pace & director Newfield never manages to maintain or generate much in the way of excitement or atmosphere which is a bad thing. Technically the film isn't great, obviously the budget was minuscule & the mad monster itself looks lame resembling an old homeless wino who hasn't shaved for a few weeks & has had a pair of plastic joke shop fangs placed in his mouth. The black and white cinematography is basic & static like most films from this period while the good Dr. Cameron's laboratory consists of a couch & a table with a few sorry pieces of scientific equipment on top. The acting is stiff & wooden with Petro looking like he's on dope throughout the entire film, Zucco as the mad scientist doesn't convince & is forgettable. The Mad Monster is a pretty lame horror film, there is very little here to entertain although at least I made it through to the end in a single sitting which when I think about it is a bit of an achievement in itself!\",\n",
              "       \"Jeff Lowell has written & directed 'Over Her Dead Body' poorly. The idea is first of all, is as stale as my jokes and the execution is just a cherry on the cake.<br /><br />Minus Eva Longoria Parker there is hardly anything appealing in this film. Eva looks great as ever and delivers a likable performance.<br /><br />Paul Rudd looks jaded and least interested. Lake Bell is a complete miscast. She looks manly and delivers a strictly average performance. Jason Biggs is wasted, so is Lindsay Sloane.<br /><br />I expected entertainment more from this film. Sadly, I didn't get entertained.\",\n",
              "       \"This is actually an insult to the victims and their families of the BTK killer. The events in this movie are not even close to the truth. Why they couldn't make a movie of the real events doesn't make any sense since the real events are more interesting then this made up farce. Don't even waste your time watching this for free. Low budget and a shameful depiction of the events which should not be made a joke of, which is really what this movie did. If they would allow me to give a -10 to this movie I would. The acting sucked and it looks like it was shot on an old VHS video camera from the 80s. Save your time and money by not watching this movie.\",\n",
              "       'I find it rather useless to comment on this \"movie\" for the simplest reason that it has nothing to comment upon.It\\'s similar to a rotten egg which has nothing good to show to the world excerpt for the fact that it is rotten as other endless number of eggs have been before it. But since a comment is mandatory for such a grandiose insignificance ... <br /><br />Filth is definitely the proper word to describe this movie created in the same manner as any other Romanian \"movie\" directed by Lucian Pintilie who insists to depict the so called \"Romanian reality\" following the Communist era (1990 to present days).<br /><br />Under no circumstances recommended for people outside Romania as for the others (who lately find amateurish camera, lack of plot, lack of directorial / actors\\'s quality etc, noise etc. as being trendy and even art-like) : watch & enjoy this \"movie\" (as I know you will) but do the other well intentioned IMDb members a favor, don\\'t write an online review for it will misguide, irritate and in the end waste their time.<br /><br />On the other hand this movie (among others) has some value whatsoever, an educational one for it sets the example for : \"How NOT to make a movie.\"'],\n",
              "      dtype=object)"
            ]
          },
          "metadata": {},
          "execution_count": 4
        }
      ]
    },
    {
      "cell_type": "code",
      "source": [
        "df[ df['label'] == 1 ]['text'].sample(5).values # positivos"
      ],
      "metadata": {
        "colab": {
          "base_uri": "https://localhost:8080/"
        },
        "id": "oG1oH3-FZtGN",
        "outputId": "4a5f47d7-3ab3-4ac6-ddba-be3aa33df653"
      },
      "execution_count": 5,
      "outputs": [
        {
          "output_type": "execute_result",
          "data": {
            "text/plain": [
              "array(['Elia Kazan, one of the best theater directors this country ever had, showed he was equally at home with movies. With \"Panic in the Streets\", Mr. Kazan gives us an early version of what would come later, with perhaps his master piece, \"On the Waterfront\", although both movies share only the water setting, for they are different visions about different subjects.<br /><br />Mr. Kazan shot on location in New Orleans. The adaptation by Daniel Fuchs of the Edna and Edward Anhalt stories that are the basis of the film, is remarkable in that it takes us to places that no tourist dared to see when visiting \"The Big Easy\". One of the big assets of this film is the magnificent black and white cinematography by Joseph MacDonald that shows New Orleans at its best. Also the music by Alfred Newman and the song by Billie Holiday gives the proceedings a nice touch.<br /><br />This film, could have been shot in New York, or another Northern big city because it presents us with characters that speak more like \"broklynese\" than maybe a Southern accent one might hear in that part of the country.<br /><br />One thing comes clear in the movie, Jack Palance, making his screen debut, smolders the screen every time one sees him. He was so intense! At the same time, this tough guy shows a tender side of him when he goes to see his sick partner, who unknown to him, is stricken with a fatal disease. Blackie, comforts this man caressing his sweaty face and running his hands through the dying man\\'s greasy hair with abandon. Notable also, was the fact that Mr. Palance and Mr. Mostel appear to have been doing their own stunts, something so refreshing because both actors make it seem real.<br /><br />The film also presents a normal side with the introduction of the Reed family at the beginning of the film. We see a family man painting furniture with his young son. Later he and the wife discuss how it appears they can\\'t make ends meet with his salary, something that many families have to deal with on a daily basis. Richard Widmark, playing a normal person is not as effective as when this actor plays more cunning and intense people. Barbara Bel Geddes, as the wife, sounds as though she\\'s a suburban woman from Connecticut.<br /><br />The film is enjoyable thanks to Mr. Kazan\\'s direction and the excellent cast working in the movie.',\n",
              "       'Surprisingly good made for T.V. Thriller. I wasn\\'t expecting too much from this one but I\\'m glad to say that this is one of the best of it\\'s kind. It\\'s fast paced and features solid acting and interesting events. <br /><br />The story gets you hooked on since the beginning and with many hits, you can\\'t help but find the movie very interesting.<br /><br />The background story of Thiessen\\'s character is hard but it turns into a nightmare when her husband is something much worse than her childhood friend\\'s step father.<br /><br />The \"stranger\" concept and his actions are disturbing if you consider that it is a common disease in society. A serial rapist does not respect society or even his own family and this movie displays the sickness and crime in a perfect way. <br /><br />My beef with the movie was the non sense situation when Thiessen\\'s character returns home with her deranged husband after he\\'s released on bail. By that moment she knew what he did to his young relative (played by the cute Allyson Hannigan). But that\\'s just the typical Hollywood scene that provokes more trouble. <br /><br />The climax scene shows Thiessen following her husband when he\\'s about to commit another rape, then she calls the cops who come in time just to capture him. The ending tells us that the husband was sentenced for 99 years in prison in real life. <br /><br />The acting is also pretty good, and Tiffany is great and gorgeous as always. The direction is also very good.',\n",
              "       \"I found it hard to like anyone in this film. The central characters, Lindy and Michael Chamberlain, whose daughter disappears during a night out in the Australian outback, are not bad people, but then surely not all, or even most, of the scores of people we see throughout this movie would be bad if we knew them better. But though we are as sure as the film wants us to be of the guilt or innocence of the Chamberlains from the start of their life's tragic disarray, the film takes on a more or less sociological perspective pertaining to gossip, news media, crowds, mobs and assumptions. It's not a movie about the degenerate society of Australia in particular; it's merely an account of a true story that happened there. Society en masse is much less evolved than the individual feels ensured that we are.<br /><br />When a warden insists upon killing all of an aborigine's dogs because of the unverified action of a single wild dog, when a randomly ruined life spins even further out of control owing to the majority of magazines, newspapers and TV programs distorts the tragic truth to a level of drama that provokes its consumers into a frenzy, there is no sign of empathy or even any kind of looking outside of one's own unaware perceptions, influenced left and right by the vigorous hearsay and vibes of those who surround one's life. The reason I appreciate the film is because it turns the focus inside out, from the victims to the masses.<br /><br />The evidence against Lindy Chamberlain aside, suspicion was jet-fueled mostly by a virtue of hers. To the public eye, she did not seem sufficiently distraught by the death of her baby daughter. Why was she able to keep her cool, even a sort of aloofness let alone holding her head up, for TV and the press? How much of the downward spiral could've been prevented had she behaved more to the public's liking in the media? Meryl Streep, one of, if not the, greatest actress working today, may not give a performance that particularly stands out, and frankly neither does any other actor, or department of film-making. But she, and the screenwriters, do understand Lindy. What is infuriating is that it's not that difficult. Apparently, she was not naturally prone to showing emotion in public in any case. Whether or not she is approachable as a lovable character in the immediate sense, we are naturally prone to sympathize with her situation.<br /><br />Whether or not her performance is as immediately gratifying as Sophie's Choice, The Devil Wears Prada, Angels In America or other such work, it is a triumph. It is difficult enrapture an audience when you purposely deny them insights into yourself. She frustrates us because we don't know what she's thinking or feeling. It took me awhile to feel endeared toward her, but this is the movie's way of suggesting the reaction of the public's attention.<br /><br />She is married to a pastor, and they both practice a religion that is in a small minority and thus misinterpreted by most. Initially, they react to their loss as if to be reconciling themselves to God's will, kick-starting a rumor mill generating the notion that their daughter's death was some sort of ritual killing on their part. Whatever happened to the little girl, her parents were part of a margin with whom most of the media's intake didn't immediately identify, so the first inclination was to go after them like a pack of hungry...well...<br /><br />Meryl Streep and Sam Neill are constantly on screen, but the Australian public plays the real leads here. Like punctuation for each plot advance, director Fred Schepisi cuts away from restaurant to tennis court to dinner party to saloon to office, where the public tries Lindy and gets carried away into their own passionate projections.<br /><br />This Golan-Globus docudrama is not particularly memorable. The setting's atmosphere doesn't give a pleasurable enough compensation for the fact that no performance or facet of production stands out. But it is very successful as an indictment of the collective conscious of the public.\",\n",
              "       'Very interesting and moving documentary about the World Trade Center tragedy on 11th September 2001.The main theme of it is the heroism of American fire-fighters who tried to rescue as many people as they could.The film is deeply emotional and rather disturbing-many people seen on screen have lost their lives!Recommended.',\n",
              "       'This film is a great comedy drama. Christopher Walken is tremendous in his supporting role as manager, and his commentary will keep you laughing. Robin Williams plays a great role as a quick wit \"Jon Stewart\" and will amuse you if you are fans of Comedy Central. The show is good, because if the viewer has half-a-brain, they will see it as a very needed sub-cultural attack on the policies of the current Republican Government and a criticism on the American Democratic Process..., not to mention the means by which most politicians get elected.<br /><br />I was amused at the sub-plots and found the film to be very fast paced and entertaining, without any of the usual \"oh-brother\\'s\" I would agree the film is less comedy than marketed, however, without question better than 90% of the garbage in theatres at present. Just my thoughts...Don'],\n",
              "      dtype=object)"
            ]
          },
          "metadata": {},
          "execution_count": 5
        }
      ]
    },
    {
      "cell_type": "markdown",
      "source": [
        "Vamos avaliar, de curiosidade, o tamanho médio dos *reviews* em termos de palavras por classe."
      ],
      "metadata": {
        "id": "MWx8Qxg6Y6kK"
      }
    },
    {
      "cell_type": "code",
      "source": [
        "def conta_palavras(x):\n",
        "    return len(x.split(\" \"))\n",
        "\n",
        "df['numero_palavras'] = df['text'].apply(conta_palavras)\n",
        "medias = df[['label', 'numero_palavras']].groupby(by=['label']).mean()\n",
        "desvios = df[['label', 'numero_palavras']].groupby(by=['label']).std()\n",
        "\n",
        "for media, desvio, indice in zip(medias.values.flatten(), desvios.values.flatten(), list(medias.index)):\n",
        "    print(f\"Classe: {indice} -> número de palavras: {media} +/- {desvio}\")"
      ],
      "metadata": {
        "colab": {
          "base_uri": "https://localhost:8080/"
        },
        "id": "bViciyNBRhlV",
        "outputId": "5ef45ba1-3427-49b5-e65c-be360f43989e"
      },
      "execution_count": 6,
      "outputs": [
        {
          "output_type": "stream",
          "name": "stdout",
          "text": [
            "Classe: 0 -> número de palavras: 229.19516459363604 +/- 164.31668858598493\n",
            "Classe: 1 -> número de palavras: 233.46684350132625 +/- 177.7660866018509\n"
          ]
        }
      ]
    },
    {
      "cell_type": "markdown",
      "source": [
        "Com a informação acima, pode-se perceber que **as postagens positivas de reviews para filmes tendem a ser mais detalhadas, pois tanto a média quanto o desvio padrão são ligeiramente maiores que nas postagens negativas**."
      ],
      "metadata": {
        "id": "ePNG6mOGY5u5"
      }
    },
    {
      "cell_type": "markdown",
      "source": [
        "### Pré-processamento\n",
        "\n",
        "Conforme definido na Metodologia, os métodos a serem utilizados são:\n",
        "* Remoção de pontuação;\n",
        "* Conversão para lowercase (minúsculo);\n",
        "* Remoção de stopwords;\n",
        "* Aplicação de stemming.\n",
        "* Conversão de números para um único número;\n",
        "* Aplicação de BagOfWords e TF-IDF;\n",
        "* Aplicaçao de PCA"
      ],
      "metadata": {
        "id": "JahmVhQvfPCq"
      }
    },
    {
      "cell_type": "code",
      "source": [
        "import string\n",
        "import nltk\n",
        "nltk.download('punkt')\n",
        "from nltk.tokenize import word_tokenize\n",
        "from nltk.stem import PorterStemmer\n",
        "stopwords = [\"i\", \"me\", \"my\", \"myself\", \"we\", \"our\", \"ours\", \"ourselves\", \"you\", \"your\", \"yours\", \"yourself\", \"yourselves\", \"he\", \"him\", \"his\", \"himself\", \"she\", \"her\", \"hers\", \"herself\", \"it\", \"its\", \"itself\", \"they\", \"them\", \"their\", \"theirs\", \"themselves\", \"what\", \"which\", \"who\", \"whom\", \"this\", \"that\", \"these\", \"those\", \"am\", \"is\", \"are\", \"was\", \"were\", \"be\", \"been\", \"being\", \"have\", \"has\", \"had\", \"having\", \"do\", \"does\", \"did\", \"doing\", \"a\", \"an\", \"the\", \"and\", \"but\", \"if\", \"or\", \"because\", \"as\", \"until\", \"while\", \"of\", \"at\", \"by\", \"for\", \"with\", \"about\", \"against\", \"between\", \"into\", \"through\", \"during\", \"before\", \"after\", \"above\", \"below\", \"to\", \"from\", \"up\", \"down\", \"in\", \"out\", \"on\", \"off\", \"over\", \"under\", \"again\", \"further\", \"then\", \"once\", \"here\", \"there\", \"when\", \"where\", \"why\", \"how\", \"all\", \"any\", \"both\", \"each\", \"few\", \"more\", \"most\", \"other\", \"some\", \"such\", \"no\", \"nor\", \"not\", \"only\", \"own\", \"same\", \"so\", \"than\", \"too\", \"very\", \"s\", \"t\", \"can\", \"will\", \"just\", \"don\", \"should\", \"now\"]\n",
        "\n",
        "# Remove a pontuação\n",
        "def remove_pontuacao(x):\n",
        "    return x.translate(str.maketrans('', '', string.punctuation))\n",
        "\n",
        "# Lower -> converte todo o texto para minúsculo\n",
        "def converte_minusculo(x):\n",
        "    return x.lower()\n",
        "\n",
        "# Remove as palavras desnecessárias\n",
        "def remove_stopwords(x):\n",
        "    import re\n",
        "    sem_stopwords =  \" \".join([a for a in word_tokenize(x) if a not in stopwords])\n",
        "    return re.sub('[ ]{1,}', ' ', sem_stopwords)\n",
        "\n",
        "# Converte números para um único número (0, neste caso.)\n",
        "def converte_numeros(x):\n",
        "    import re\n",
        "    return re.sub('[0-9]{1,}', '0', x)\n",
        "\n",
        "def stem(x):\n",
        "    ps = PorterStemmer()\n",
        "    stemmed =  \" \".join([ps.stem(a) for a in word_tokenize(x)])\n",
        "    return stemmed"
      ],
      "metadata": {
        "colab": {
          "base_uri": "https://localhost:8080/"
        },
        "id": "QWdvqIRTgYVg",
        "outputId": "926089fc-5e2a-4f93-e0a7-517edcc57c03"
      },
      "execution_count": 7,
      "outputs": [
        {
          "output_type": "stream",
          "name": "stdout",
          "text": [
            "[nltk_data] Downloading package punkt to /root/nltk_data...\n",
            "[nltk_data]   Unzipping tokenizers/punkt.zip.\n"
          ]
        }
      ]
    },
    {
      "cell_type": "markdown",
      "source": [
        "Aplicaremos os métodos acima descritos pois manter estas informações podem tornar ainda mais complexo ao modelo aprender a diferenciar um *review* positivo de um negativo.\n",
        "\n",
        "Stopwords são palavras \"genéricas\" que não ajudam o modelo a fazer a classificação de fato pois existem em todas as situações. Envolvem pronomes, verbos, entre outras palavras.\n",
        "\n",
        "Pontuação, ao ser usada como feature, terá o mesmo efeito de stopwords. \n",
        "\n",
        "A aplicação de Stemming é necessária para redução de palavras similares à sua raiz, como na imagem a seguir:\n",
        "![image.png](data:image/png;base64,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)\n",
        "\n",
        "Todos os números foram convertidos para o mesmo número, pois eles podem criar uma tendência incorreta na classificação.\n",
        "\n"
      ],
      "metadata": {
        "id": "q0NEayVmxIGH"
      }
    },
    {
      "cell_type": "code",
      "source": [
        "df['text'] = df['text'].apply(lambda x: converte_numeros(converte_minusculo(remove_pontuacao(x))))\n",
        "df.head()"
      ],
      "metadata": {
        "colab": {
          "base_uri": "https://localhost:8080/",
          "height": 206
        },
        "id": "vMkKOUfAtiAc",
        "outputId": "eacab749-cb40-44ef-992f-58ba1f85474f"
      },
      "execution_count": 8,
      "outputs": [
        {
          "output_type": "execute_result",
          "data": {
            "text/plain": [
              "                                                text  label  numero_palavras\n",
              "0  i grew up b 0 watching and loving the thunderb...      0              151\n",
              "1  when i put this movie in my dvd player and sat...      0              326\n",
              "2  why do people who do not know what a particula...      0              184\n",
              "3  even though i have great interest in biblical ...      0               69\n",
              "4  im a die hard dads army fan and nothing will e...      1              178"
            ],
            "text/html": [
              "\n",
              "  <div id=\"df-2cc52225-9587-47f2-858c-df699e78fae0\">\n",
              "    <div class=\"colab-df-container\">\n",
              "      <div>\n",
              "<style scoped>\n",
              "    .dataframe tbody tr th:only-of-type {\n",
              "        vertical-align: middle;\n",
              "    }\n",
              "\n",
              "    .dataframe tbody tr th {\n",
              "        vertical-align: top;\n",
              "    }\n",
              "\n",
              "    .dataframe thead th {\n",
              "        text-align: right;\n",
              "    }\n",
              "</style>\n",
              "<table border=\"1\" class=\"dataframe\">\n",
              "  <thead>\n",
              "    <tr style=\"text-align: right;\">\n",
              "      <th></th>\n",
              "      <th>text</th>\n",
              "      <th>label</th>\n",
              "      <th>numero_palavras</th>\n",
              "    </tr>\n",
              "  </thead>\n",
              "  <tbody>\n",
              "    <tr>\n",
              "      <th>0</th>\n",
              "      <td>i grew up b 0 watching and loving the thunderb...</td>\n",
              "      <td>0</td>\n",
              "      <td>151</td>\n",
              "    </tr>\n",
              "    <tr>\n",
              "      <th>1</th>\n",
              "      <td>when i put this movie in my dvd player and sat...</td>\n",
              "      <td>0</td>\n",
              "      <td>326</td>\n",
              "    </tr>\n",
              "    <tr>\n",
              "      <th>2</th>\n",
              "      <td>why do people who do not know what a particula...</td>\n",
              "      <td>0</td>\n",
              "      <td>184</td>\n",
              "    </tr>\n",
              "    <tr>\n",
              "      <th>3</th>\n",
              "      <td>even though i have great interest in biblical ...</td>\n",
              "      <td>0</td>\n",
              "      <td>69</td>\n",
              "    </tr>\n",
              "    <tr>\n",
              "      <th>4</th>\n",
              "      <td>im a die hard dads army fan and nothing will e...</td>\n",
              "      <td>1</td>\n",
              "      <td>178</td>\n",
              "    </tr>\n",
              "  </tbody>\n",
              "</table>\n",
              "</div>\n",
              "      <button class=\"colab-df-convert\" onclick=\"convertToInteractive('df-2cc52225-9587-47f2-858c-df699e78fae0')\"\n",
              "              title=\"Convert this dataframe to an interactive table.\"\n",
              "              style=\"display:none;\">\n",
              "        \n",
              "  <svg xmlns=\"http://www.w3.org/2000/svg\" height=\"24px\"viewBox=\"0 0 24 24\"\n",
              "       width=\"24px\">\n",
              "    <path d=\"M0 0h24v24H0V0z\" fill=\"none\"/>\n",
              "    <path d=\"M18.56 5.44l.94 2.06.94-2.06 2.06-.94-2.06-.94-.94-2.06-.94 2.06-2.06.94zm-11 1L8.5 8.5l.94-2.06 2.06-.94-2.06-.94L8.5 2.5l-.94 2.06-2.06.94zm10 10l.94 2.06.94-2.06 2.06-.94-2.06-.94-.94-2.06-.94 2.06-2.06.94z\"/><path d=\"M17.41 7.96l-1.37-1.37c-.4-.4-.92-.59-1.43-.59-.52 0-1.04.2-1.43.59L10.3 9.45l-7.72 7.72c-.78.78-.78 2.05 0 2.83L4 21.41c.39.39.9.59 1.41.59.51 0 1.02-.2 1.41-.59l7.78-7.78 2.81-2.81c.8-.78.8-2.07 0-2.86zM5.41 20L4 18.59l7.72-7.72 1.47 1.35L5.41 20z\"/>\n",
              "  </svg>\n",
              "      </button>\n",
              "      \n",
              "  <style>\n",
              "    .colab-df-container {\n",
              "      display:flex;\n",
              "      flex-wrap:wrap;\n",
              "      gap: 12px;\n",
              "    }\n",
              "\n",
              "    .colab-df-convert {\n",
              "      background-color: #E8F0FE;\n",
              "      border: none;\n",
              "      border-radius: 50%;\n",
              "      cursor: pointer;\n",
              "      display: none;\n",
              "      fill: #1967D2;\n",
              "      height: 32px;\n",
              "      padding: 0 0 0 0;\n",
              "      width: 32px;\n",
              "    }\n",
              "\n",
              "    .colab-df-convert:hover {\n",
              "      background-color: #E2EBFA;\n",
              "      box-shadow: 0px 1px 2px rgba(60, 64, 67, 0.3), 0px 1px 3px 1px rgba(60, 64, 67, 0.15);\n",
              "      fill: #174EA6;\n",
              "    }\n",
              "\n",
              "    [theme=dark] .colab-df-convert {\n",
              "      background-color: #3B4455;\n",
              "      fill: #D2E3FC;\n",
              "    }\n",
              "\n",
              "    [theme=dark] .colab-df-convert:hover {\n",
              "      background-color: #434B5C;\n",
              "      box-shadow: 0px 1px 3px 1px rgba(0, 0, 0, 0.15);\n",
              "      filter: drop-shadow(0px 1px 2px rgba(0, 0, 0, 0.3));\n",
              "      fill: #FFFFFF;\n",
              "    }\n",
              "  </style>\n",
              "\n",
              "      <script>\n",
              "        const buttonEl =\n",
              "          document.querySelector('#df-2cc52225-9587-47f2-858c-df699e78fae0 button.colab-df-convert');\n",
              "        buttonEl.style.display =\n",
              "          google.colab.kernel.accessAllowed ? 'block' : 'none';\n",
              "\n",
              "        async function convertToInteractive(key) {\n",
              "          const element = document.querySelector('#df-2cc52225-9587-47f2-858c-df699e78fae0');\n",
              "          const dataTable =\n",
              "            await google.colab.kernel.invokeFunction('convertToInteractive',\n",
              "                                                     [key], {});\n",
              "          if (!dataTable) return;\n",
              "\n",
              "          const docLinkHtml = 'Like what you see? Visit the ' +\n",
              "            '<a target=\"_blank\" href=https://colab.research.google.com/notebooks/data_table.ipynb>data table notebook</a>'\n",
              "            + ' to learn more about interactive tables.';\n",
              "          element.innerHTML = '';\n",
              "          dataTable['output_type'] = 'display_data';\n",
              "          await google.colab.output.renderOutput(dataTable, element);\n",
              "          const docLink = document.createElement('div');\n",
              "          docLink.innerHTML = docLinkHtml;\n",
              "          element.appendChild(docLink);\n",
              "        }\n",
              "      </script>\n",
              "    </div>\n",
              "  </div>\n",
              "  "
            ]
          },
          "metadata": {},
          "execution_count": 8
        }
      ]
    },
    {
      "cell_type": "code",
      "source": [
        "df['text'] = df['text'].apply(lambda x: converte_minusculo(x))"
      ],
      "metadata": {
        "id": "chZLFKGcxcfM"
      },
      "execution_count": 9,
      "outputs": []
    },
    {
      "cell_type": "code",
      "source": [
        "df['text'] = df['text'].apply(lambda x: remove_stopwords(x))"
      ],
      "metadata": {
        "id": "3bvkeDbkzS0d"
      },
      "execution_count": 10,
      "outputs": []
    },
    {
      "cell_type": "code",
      "source": [
        "df['text'] = df['text'].apply(lambda x: stem(x))"
      ],
      "metadata": {
        "id": "7luKgxEaCF28"
      },
      "execution_count": 11,
      "outputs": []
    },
    {
      "cell_type": "code",
      "source": [
        "df.head()"
      ],
      "metadata": {
        "colab": {
          "base_uri": "https://localhost:8080/",
          "height": 206
        },
        "id": "pnuZ0Hy52lNn",
        "outputId": "ccd7d064-9472-4355-fcb8-30b6effc5ba6"
      },
      "execution_count": 12,
      "outputs": [
        {
          "output_type": "execute_result",
          "data": {
            "text/plain": [
              "                                                text  label  numero_palavras\n",
              "0  grew b 0 watch love thunderbird mate school wa...      0              151\n",
              "1  put movi dvd player sat coke chip expect hope ...      0              326\n",
              "2  peopl know particular time past like feel need...      0              184\n",
              "3  even though great interest biblic movi bore de...      0               69\n",
              "4  im die hard dad armi fan noth ever chang got t...      1              178"
            ],
            "text/html": [
              "\n",
              "  <div id=\"df-72565df6-3207-4849-8b43-291d4740e481\">\n",
              "    <div class=\"colab-df-container\">\n",
              "      <div>\n",
              "<style scoped>\n",
              "    .dataframe tbody tr th:only-of-type {\n",
              "        vertical-align: middle;\n",
              "    }\n",
              "\n",
              "    .dataframe tbody tr th {\n",
              "        vertical-align: top;\n",
              "    }\n",
              "\n",
              "    .dataframe thead th {\n",
              "        text-align: right;\n",
              "    }\n",
              "</style>\n",
              "<table border=\"1\" class=\"dataframe\">\n",
              "  <thead>\n",
              "    <tr style=\"text-align: right;\">\n",
              "      <th></th>\n",
              "      <th>text</th>\n",
              "      <th>label</th>\n",
              "      <th>numero_palavras</th>\n",
              "    </tr>\n",
              "  </thead>\n",
              "  <tbody>\n",
              "    <tr>\n",
              "      <th>0</th>\n",
              "      <td>grew b 0 watch love thunderbird mate school wa...</td>\n",
              "      <td>0</td>\n",
              "      <td>151</td>\n",
              "    </tr>\n",
              "    <tr>\n",
              "      <th>1</th>\n",
              "      <td>put movi dvd player sat coke chip expect hope ...</td>\n",
              "      <td>0</td>\n",
              "      <td>326</td>\n",
              "    </tr>\n",
              "    <tr>\n",
              "      <th>2</th>\n",
              "      <td>peopl know particular time past like feel need...</td>\n",
              "      <td>0</td>\n",
              "      <td>184</td>\n",
              "    </tr>\n",
              "    <tr>\n",
              "      <th>3</th>\n",
              "      <td>even though great interest biblic movi bore de...</td>\n",
              "      <td>0</td>\n",
              "      <td>69</td>\n",
              "    </tr>\n",
              "    <tr>\n",
              "      <th>4</th>\n",
              "      <td>im die hard dad armi fan noth ever chang got t...</td>\n",
              "      <td>1</td>\n",
              "      <td>178</td>\n",
              "    </tr>\n",
              "  </tbody>\n",
              "</table>\n",
              "</div>\n",
              "      <button class=\"colab-df-convert\" onclick=\"convertToInteractive('df-72565df6-3207-4849-8b43-291d4740e481')\"\n",
              "              title=\"Convert this dataframe to an interactive table.\"\n",
              "              style=\"display:none;\">\n",
              "        \n",
              "  <svg xmlns=\"http://www.w3.org/2000/svg\" height=\"24px\"viewBox=\"0 0 24 24\"\n",
              "       width=\"24px\">\n",
              "    <path d=\"M0 0h24v24H0V0z\" fill=\"none\"/>\n",
              "    <path d=\"M18.56 5.44l.94 2.06.94-2.06 2.06-.94-2.06-.94-.94-2.06-.94 2.06-2.06.94zm-11 1L8.5 8.5l.94-2.06 2.06-.94-2.06-.94L8.5 2.5l-.94 2.06-2.06.94zm10 10l.94 2.06.94-2.06 2.06-.94-2.06-.94-.94-2.06-.94 2.06-2.06.94z\"/><path d=\"M17.41 7.96l-1.37-1.37c-.4-.4-.92-.59-1.43-.59-.52 0-1.04.2-1.43.59L10.3 9.45l-7.72 7.72c-.78.78-.78 2.05 0 2.83L4 21.41c.39.39.9.59 1.41.59.51 0 1.02-.2 1.41-.59l7.78-7.78 2.81-2.81c.8-.78.8-2.07 0-2.86zM5.41 20L4 18.59l7.72-7.72 1.47 1.35L5.41 20z\"/>\n",
              "  </svg>\n",
              "      </button>\n",
              "      \n",
              "  <style>\n",
              "    .colab-df-container {\n",
              "      display:flex;\n",
              "      flex-wrap:wrap;\n",
              "      gap: 12px;\n",
              "    }\n",
              "\n",
              "    .colab-df-convert {\n",
              "      background-color: #E8F0FE;\n",
              "      border: none;\n",
              "      border-radius: 50%;\n",
              "      cursor: pointer;\n",
              "      display: none;\n",
              "      fill: #1967D2;\n",
              "      height: 32px;\n",
              "      padding: 0 0 0 0;\n",
              "      width: 32px;\n",
              "    }\n",
              "\n",
              "    .colab-df-convert:hover {\n",
              "      background-color: #E2EBFA;\n",
              "      box-shadow: 0px 1px 2px rgba(60, 64, 67, 0.3), 0px 1px 3px 1px rgba(60, 64, 67, 0.15);\n",
              "      fill: #174EA6;\n",
              "    }\n",
              "\n",
              "    [theme=dark] .colab-df-convert {\n",
              "      background-color: #3B4455;\n",
              "      fill: #D2E3FC;\n",
              "    }\n",
              "\n",
              "    [theme=dark] .colab-df-convert:hover {\n",
              "      background-color: #434B5C;\n",
              "      box-shadow: 0px 1px 3px 1px rgba(0, 0, 0, 0.15);\n",
              "      filter: drop-shadow(0px 1px 2px rgba(0, 0, 0, 0.3));\n",
              "      fill: #FFFFFF;\n",
              "    }\n",
              "  </style>\n",
              "\n",
              "      <script>\n",
              "        const buttonEl =\n",
              "          document.querySelector('#df-72565df6-3207-4849-8b43-291d4740e481 button.colab-df-convert');\n",
              "        buttonEl.style.display =\n",
              "          google.colab.kernel.accessAllowed ? 'block' : 'none';\n",
              "\n",
              "        async function convertToInteractive(key) {\n",
              "          const element = document.querySelector('#df-72565df6-3207-4849-8b43-291d4740e481');\n",
              "          const dataTable =\n",
              "            await google.colab.kernel.invokeFunction('convertToInteractive',\n",
              "                                                     [key], {});\n",
              "          if (!dataTable) return;\n",
              "\n",
              "          const docLinkHtml = 'Like what you see? Visit the ' +\n",
              "            '<a target=\"_blank\" href=https://colab.research.google.com/notebooks/data_table.ipynb>data table notebook</a>'\n",
              "            + ' to learn more about interactive tables.';\n",
              "          element.innerHTML = '';\n",
              "          dataTable['output_type'] = 'display_data';\n",
              "          await google.colab.output.renderOutput(dataTable, element);\n",
              "          const docLink = document.createElement('div');\n",
              "          docLink.innerHTML = docLinkHtml;\n",
              "          element.appendChild(docLink);\n",
              "        }\n",
              "      </script>\n",
              "    </div>\n",
              "  </div>\n",
              "  "
            ]
          },
          "metadata": {},
          "execution_count": 12
        }
      ]
    },
    {
      "cell_type": "markdown",
      "source": [
        "### Separação em treino e teste\n",
        "\n",
        "Este tipo de separação é necessário para evitar viés no modelo. Além disso, deve ser executado nesse ponto para não haver *data leakage* dos dados de teste, o que invalidaria os resultados obtidos com o modelo.\n",
        "\n",
        "Separaremos inicialmente em 70/30, ou seja: 70% para treino e 30% para teste."
      ],
      "metadata": {
        "id": "0HD-wmc7EoeX"
      }
    },
    {
      "cell_type": "code",
      "source": [
        "from sklearn.model_selection import train_test_split\n",
        "\n",
        "Xtreino, Xteste, ytreino, yteste = train_test_split(df['text'], df['label'], random_state=0, stratify=df['label'],\n",
        "                                                    test_size=.3)"
      ],
      "metadata": {
        "id": "5ZBuIoyOEqTL"
      },
      "execution_count": 13,
      "outputs": []
    },
    {
      "cell_type": "markdown",
      "source": [
        "### Aplicação de Bag-Of-Words\n",
        "\n",
        "Bag-of-Words simplesmente conta a frequência de palavras por review. Utilizaremos o fit_transform e realizaremos apenas o transform nos dados de teste, para evitar que algum tipo de parâmetro vaze e afete o modelo de alguma forma."
      ],
      "metadata": {
        "id": "pI0zW0s18cvB"
      }
    },
    {
      "cell_type": "code",
      "source": [
        "from sklearn.feature_extraction.text import CountVectorizer\n",
        "\n",
        "vectorizer = CountVectorizer()\n",
        "Xtreino_bow = vectorizer.fit_transform(Xtreino)\n",
        "Xteste_bow = vectorizer.transform(Xteste)"
      ],
      "metadata": {
        "id": "6-vOPimu-4-b"
      },
      "execution_count": 14,
      "outputs": []
    },
    {
      "cell_type": "markdown",
      "source": [
        "### Aplicação de TF-IDF\n",
        "\n",
        "Gerando um novo dataframe com dados com o TF-IDF calculado.\n",
        "O TF-IDF (Term-frequency - Inverse Document Frequency) é um cálculo que avalia relevância de determinadas palavras, dando valores baixos para palavras frequentes em muitos documentos (ou reviews, neste caso), que se comportaria de forma similar a uma stopword.\n",
        "\n",
        "O cálculo é realizado da seguinte forma:\n",
        "$w_{ij} = tf_{ij} \\times log(\\frac{N}{df_i})$, onde $w_{ij}$ é a palavra $i$ no *review* $j$, $tf_{ij}$ é a frequência da palavra $i$ no review $j$, que se multiplica à $log(\\frac{N}{df_i})$. $N$ é o número total de reviews e $df_i$ é o número de reviews que contêm a palavra $i$. O cálculo de log suaviza o crescimento do valor de $w_{ij}$."
      ],
      "metadata": {
        "id": "GJgXj694CeTq"
      }
    },
    {
      "cell_type": "code",
      "source": [
        "from sklearn.feature_extraction.text import TfidfVectorizer\n",
        "\n",
        "tfidf = TfidfVectorizer()\n",
        "Xtreino_tfidf = tfidf.fit_transform(Xtreino)\n",
        "Xteste_tfidf = tfidf.transform(Xteste)"
      ],
      "metadata": {
        "id": "ES7vHuuQGAuR"
      },
      "execution_count": 15,
      "outputs": []
    },
    {
      "cell_type": "markdown",
      "source": [
        "### Classificação\n",
        "\n",
        "Serão utilizados Naïve Bayes, KNN e Floresta Aleatória."
      ],
      "metadata": {
        "id": "VIS2N6OZG65a"
      }
    },
    {
      "cell_type": "code",
      "source": [
        "from sklearn.ensemble import RandomForestClassifier\n",
        "from sklearn.neighbors import KNeighborsClassifier\n",
        "from sklearn.linear_model import LogisticRegression"
      ],
      "metadata": {
        "id": "_HExRu8EG91Q"
      },
      "execution_count": 16,
      "outputs": []
    },
    {
      "cell_type": "markdown",
      "source": [
        "Será executado cada abordagem 5 vezes, com exceção do GaussianNB. O GaussianNB possui paâmetros apenas como probabilidades a priori e var_smoothing, utilizado para estabilidade em alguns cálculos."
      ],
      "metadata": {
        "id": "vRS5yv10HZQ5"
      }
    },
    {
      "cell_type": "code",
      "source": [
        "resultados = {'abordagem': [], 'preprocessamento':[], 'acc_teste': [], 'parametro':[]}"
      ],
      "metadata": {
        "id": "Fvzx6lomJ0zk"
      },
      "execution_count": 17,
      "outputs": []
    },
    {
      "cell_type": "markdown",
      "source": [
        "Execução 5 vezes para RandomForest, variando a quantidade de árvores de 1 a 50, pulado de 10 em 10, utilizando pré-processamento com Bag-of-Words. Os parâmetros selecionados serão aqueles que obtiverem melhor resultado no teste."
      ],
      "metadata": {
        "id": "kxBBrof6H52h"
      }
    },
    {
      "cell_type": "code",
      "source": [
        "from sklearn.metrics import accuracy_score\n",
        "\n",
        "acc_rf_treino = {}\n",
        "acc_rf_teste = {}\n",
        "\n",
        "for numero_arvores in range(1, 52, 10):\n",
        "    print(f\"Treinando RandomForest com {numero_arvores} estimators.\")\n",
        "    acc_rf_treino[numero_arvores] = []\n",
        "    acc_rf_teste[numero_arvores] = []\n",
        "\n",
        "    for rs in range(0, 5):\n",
        "        rf = RandomForestClassifier(random_state=rs, n_estimators=numero_arvores)\n",
        "        rf.fit(Xtreino_bow, ytreino)\n",
        "    \n",
        "        acc_rf_treino[numero_arvores].append(accuracy_score(ytreino, rf.predict(Xtreino_bow)))\n",
        "        acc_rf_teste[numero_arvores].append(accuracy_score(yteste, rf.predict(Xteste_bow)))\n",
        "    \n",
        "df_rf_treino = pd.DataFrame(acc_rf_treino)\n",
        "df_rf_teste = pd.DataFrame(acc_rf_teste)\n",
        "\n",
        " \n",
        "resultados['abordagem'].append('rf')\n",
        "resultados['preprocessamento'].append('bow')\n",
        "resultados['acc_teste'].append(df_rf_teste.mean().max())\n",
        "resultados['parametro'].append(df_rf_teste.mean()[df_rf_teste.mean()==df_rf_teste.mean().max()].index[0])"
      ],
      "metadata": {
        "colab": {
          "base_uri": "https://localhost:8080/"
        },
        "id": "JJaIMv1PH-gi",
        "outputId": "9d32863e-ca5e-4232-ce77-92f6a5bdac87"
      },
      "execution_count": 18,
      "outputs": [
        {
          "output_type": "stream",
          "name": "stdout",
          "text": [
            "Treinando RandomForest com 1 estimators.\n",
            "Treinando RandomForest com 11 estimators.\n",
            "Treinando RandomForest com 21 estimators.\n",
            "Treinando RandomForest com 31 estimators.\n",
            "Treinando RandomForest com 41 estimators.\n",
            "Treinando RandomForest com 51 estimators.\n"
          ]
        }
      ]
    },
    {
      "cell_type": "markdown",
      "source": [
        "Execução 5 vezes para KNN, variando a quantidade de vizinhos a serem consultados de 1 a 50, pulado de 10 em 10, utilizando pré-processamento com Bag-of-Words. Os parâmetros selecionados serão aqueles que obtiverem melhor resultado no teste."
      ],
      "metadata": {
        "id": "kHT_ECAbzgFu"
      }
    },
    {
      "cell_type": "code",
      "source": [
        "from sklearn.metrics import accuracy_score\n",
        "\n",
        "acc_knn_treino = {}\n",
        "acc_knn_teste = {}\n",
        "\n",
        "for k in range(1, 52, 10):\n",
        "    print(f\"Treinando KNN com {k} vizinhos.\")\n",
        "    acc_knn_treino[k] = []\n",
        "    acc_knn_teste[k] = []\n",
        "\n",
        "    for rs in range(0, 1):\n",
        "        knn = KNeighborsClassifier(n_neighbors=k)\n",
        "        knn.fit(Xtreino_bow, ytreino)\n",
        "    \n",
        "        acc_knn_treino[k].append(accuracy_score(ytreino, knn.predict(Xtreino_bow)))\n",
        "        acc_knn_teste[k].append(accuracy_score(yteste, knn.predict(Xteste_bow)))\n",
        "    \n",
        "df_knn_treino = pd.DataFrame(acc_knn_treino)\n",
        "df_knn_teste = pd.DataFrame(acc_knn_teste)\n",
        "\n",
        " \n",
        "resultados['abordagem'].append('knn')\n",
        "resultados['preprocessamento'].append('bow')\n",
        "resultados['acc_teste'].append(df_knn_teste.mean().max())\n",
        "resultados['parametro'].append(df_knn_teste.mean()[df_knn_teste.mean()==df_knn_teste.mean().max()].index[0])"
      ],
      "metadata": {
        "colab": {
          "base_uri": "https://localhost:8080/"
        },
        "id": "WA_HiS07LiR1",
        "outputId": "cb9a4a6f-c9cd-4817-8791-701a5250f14f"
      },
      "execution_count": 19,
      "outputs": [
        {
          "output_type": "stream",
          "name": "stdout",
          "text": [
            "Treinando KNN com 1 vizinhos.\n",
            "Treinando KNN com 11 vizinhos.\n",
            "Treinando KNN com 21 vizinhos.\n",
            "Treinando KNN com 31 vizinhos.\n",
            "Treinando KNN com 41 vizinhos.\n",
            "Treinando KNN com 51 vizinhos.\n"
          ]
        }
      ]
    },
    {
      "cell_type": "code",
      "source": [
        "from sklearn.metrics import accuracy_score\n",
        "\n",
        "acc_lr_treino = {}\n",
        "acc_lr_teste = {}\n",
        "\n",
        "for k in range(1, 2):\n",
        "    print(f\"Treinando com Regressao Logística.\")\n",
        "    acc_lr_treino[k] = []\n",
        "    acc_lr_teste[k] = []\n",
        "\n",
        "    for rs in range(0, 1):\n",
        "        lr = LogisticRegression(max_iter=10000)\n",
        "        lr.fit(Xtreino_bow, ytreino)\n",
        "    \n",
        "        acc_lr_treino[k].append(accuracy_score(ytreino, lr.predict(Xtreino_bow)))\n",
        "        acc_lr_teste[k].append(accuracy_score(yteste, lr.predict(Xteste_bow)))\n",
        "    \n",
        "df_lr_treino = pd.DataFrame(acc_lr_treino)\n",
        "df_lr_teste = pd.DataFrame(acc_lr_teste)\n",
        "\n",
        " \n",
        "resultados['abordagem'].append('lr')\n",
        "resultados['preprocessamento'].append('bow')\n",
        "resultados['acc_teste'].append(df_lr_teste.mean().max())\n",
        "resultados['parametro'].append(df_lr_teste.mean()[df_lr_teste.mean()==df_lr_teste.mean().max()].index[0])"
      ],
      "metadata": {
        "colab": {
          "base_uri": "https://localhost:8080/"
        },
        "id": "2YKQr-TH1ygJ",
        "outputId": "409fe50a-8daf-44dd-93ad-4567efc42400"
      },
      "execution_count": 25,
      "outputs": [
        {
          "output_type": "stream",
          "name": "stdout",
          "text": [
            "Treinando com Regressao Logística.\n"
          ]
        }
      ]
    },
    {
      "cell_type": "code",
      "source": [
        "from sklearn.metrics import accuracy_score\n",
        "\n",
        "acc_rf_treino = {}\n",
        "acc_rf_teste = {}\n",
        "\n",
        "for numero_arvores in range(1, 52, 10):\n",
        "    print(f\"Treinando RandomForest com {numero_arvores} estimators.\")\n",
        "    acc_rf_treino[numero_arvores] = []\n",
        "    acc_rf_teste[numero_arvores] = []\n",
        "\n",
        "    for rs in range(0, 5):\n",
        "        rf = RandomForestClassifier(random_state=rs, n_estimators=numero_arvores)\n",
        "        rf.fit(Xtreino_tfidf, ytreino)\n",
        "    \n",
        "        acc_rf_treino[numero_arvores].append(accuracy_score(ytreino, rf.predict(Xtreino_tfidf)))\n",
        "        acc_rf_teste[numero_arvores].append(accuracy_score(yteste, rf.predict(Xteste_tfidf)))\n",
        "    \n",
        "df_rf_treino = pd.DataFrame(acc_rf_treino)\n",
        "df_rf_teste = pd.DataFrame(acc_rf_teste)\n",
        "\n",
        " \n",
        "resultados['abordagem'].append('rf')\n",
        "resultados['preprocessamento'].append('tfidf')\n",
        "resultados['acc_teste'].append(df_rf_teste.mean().max())\n",
        "resultados['parametro'].append(df_rf_teste.mean()[df_rf_teste.mean()==df_rf_teste.mean().max()].index[0])"
      ],
      "metadata": {
        "colab": {
          "base_uri": "https://localhost:8080/"
        },
        "id": "2G5DJwvbzvFH",
        "outputId": "aad5e981-cb06-44d5-beb3-9bcd7d278580"
      },
      "execution_count": 21,
      "outputs": [
        {
          "output_type": "stream",
          "name": "stdout",
          "text": [
            "Treinando RandomForest com 1 estimators.\n",
            "Treinando RandomForest com 11 estimators.\n",
            "Treinando RandomForest com 21 estimators.\n",
            "Treinando RandomForest com 31 estimators.\n",
            "Treinando RandomForest com 41 estimators.\n",
            "Treinando RandomForest com 51 estimators.\n"
          ]
        }
      ]
    },
    {
      "cell_type": "code",
      "source": [
        "from sklearn.metrics import accuracy_score\n",
        "\n",
        "acc_knn_treino = {}\n",
        "acc_knn_teste = {}\n",
        "\n",
        "for k in range(1, 52, 10):\n",
        "    print(f\"Treinando KNN com {k} vizinhos.\")\n",
        "    acc_knn_treino[k] = []\n",
        "    acc_knn_teste[k] = []\n",
        "\n",
        "    for rs in range(0, 1):\n",
        "        knn = KNeighborsClassifier(n_neighbors=k)\n",
        "        knn.fit(Xtreino_tfidf, ytreino)\n",
        "    \n",
        "        acc_knn_treino[k].append(accuracy_score(ytreino, knn.predict(Xtreino_tfidf)))\n",
        "        acc_knn_teste[k].append(accuracy_score(yteste, knn.predict(Xteste_tfidf)))\n",
        "    \n",
        "df_knn_treino = pd.DataFrame(acc_knn_treino)\n",
        "df_knn_teste = pd.DataFrame(acc_knn_teste)\n",
        "\n",
        " \n",
        "resultados['abordagem'].append('knn')\n",
        "resultados['preprocessamento'].append('tfidf')\n",
        "resultados['acc_teste'].append(df_knn_teste.mean().max())\n",
        "resultados['parametro'].append(df_knn_teste.mean()[df_knn_teste.mean()==df_knn_teste.mean().max()].index[0])"
      ],
      "metadata": {
        "colab": {
          "base_uri": "https://localhost:8080/"
        },
        "id": "3a51nFqtz7yd",
        "outputId": "1c698338-87af-4183-80ea-375eafd7394a"
      },
      "execution_count": 22,
      "outputs": [
        {
          "output_type": "stream",
          "name": "stdout",
          "text": [
            "Treinando KNN com 1 vizinhos.\n",
            "Treinando KNN com 11 vizinhos.\n",
            "Treinando KNN com 21 vizinhos.\n",
            "Treinando KNN com 31 vizinhos.\n",
            "Treinando KNN com 41 vizinhos.\n",
            "Treinando KNN com 51 vizinhos.\n"
          ]
        }
      ]
    },
    {
      "cell_type": "code",
      "source": [
        "from sklearn.metrics import accuracy_score\n",
        "\n",
        "acc_lr_treino = {}\n",
        "acc_lr_teste = {}\n",
        "\n",
        "for k in range(1, 2):\n",
        "    print(f\"Treinando lr.\")\n",
        "    acc_lr_treino[k] = []\n",
        "    acc_lr_teste[k] = []\n",
        "\n",
        "    for rs in range(0, 1):\n",
        "        lr = LogisticRegression(max_iter=10000)\n",
        "        lr.fit(Xtreino_tfidf, ytreino)\n",
        "    \n",
        "        acc_lr_treino[k].append(accuracy_score(ytreino, lr.predict(Xtreino_tfidf)))\n",
        "        acc_lr_teste[k].append(accuracy_score(yteste, lr.predict(Xteste_tfidf)))\n",
        "    \n",
        "df_lr_treino = pd.DataFrame(acc_lr_treino)\n",
        "df_lr_teste = pd.DataFrame(acc_lr_teste)\n",
        "\n",
        " \n",
        "resultados['abordagem'].append('lr')\n",
        "resultados['preprocessamento'].append('tfidf')\n",
        "resultados['acc_teste'].append(df_lr_teste.mean().max())\n",
        "resultados['parametro'].append(df_lr_teste.mean()[df_lr_teste.mean()==df_lr_teste.mean().max()].index[0])"
      ],
      "metadata": {
        "colab": {
          "base_uri": "https://localhost:8080/"
        },
        "id": "YzFqDAO71-pC",
        "outputId": "a75c2ed3-cdf5-4ab2-93e0-d9b267724f2f"
      },
      "execution_count": 23,
      "outputs": [
        {
          "output_type": "stream",
          "name": "stdout",
          "text": [
            "Treinando lr.\n"
          ]
        }
      ]
    },
    {
      "cell_type": "markdown",
      "source": [
        "## Resultados"
      ],
      "metadata": {
        "id": "Jc0R6u-6RzIi"
      }
    },
    {
      "cell_type": "code",
      "source": [
        "pd.DataFrame(resultados)"
      ],
      "metadata": {
        "colab": {
          "base_uri": "https://localhost:8080/",
          "height": 269
        },
        "id": "Jij0RP0BP198",
        "outputId": "8382ece5-e682-4fd1-b9e0-9ad1f4ec679c"
      },
      "execution_count": 26,
      "outputs": [
        {
          "output_type": "execute_result",
          "data": {
            "text/plain": [
              "  abordagem preprocessamento  acc_teste  parametro\n",
              "0        rf              bow   0.833133         51\n",
              "1       knn              bow   0.695917         51\n",
              "2        lr              bow   0.874000          1\n",
              "3        rf            tfidf   0.832200         51\n",
              "4       knn            tfidf   0.802167         51\n",
              "5        lr            tfidf   0.885083          1\n",
              "6        lr              bow   0.872750          1"
            ],
            "text/html": [
              "\n",
              "  <div id=\"df-c9ed2045-09ef-454a-9e36-45368ff48092\">\n",
              "    <div class=\"colab-df-container\">\n",
              "      <div>\n",
              "<style scoped>\n",
              "    .dataframe tbody tr th:only-of-type {\n",
              "        vertical-align: middle;\n",
              "    }\n",
              "\n",
              "    .dataframe tbody tr th {\n",
              "        vertical-align: top;\n",
              "    }\n",
              "\n",
              "    .dataframe thead th {\n",
              "        text-align: right;\n",
              "    }\n",
              "</style>\n",
              "<table border=\"1\" class=\"dataframe\">\n",
              "  <thead>\n",
              "    <tr style=\"text-align: right;\">\n",
              "      <th></th>\n",
              "      <th>abordagem</th>\n",
              "      <th>preprocessamento</th>\n",
              "      <th>acc_teste</th>\n",
              "      <th>parametro</th>\n",
              "    </tr>\n",
              "  </thead>\n",
              "  <tbody>\n",
              "    <tr>\n",
              "      <th>0</th>\n",
              "      <td>rf</td>\n",
              "      <td>bow</td>\n",
              "      <td>0.833133</td>\n",
              "      <td>51</td>\n",
              "    </tr>\n",
              "    <tr>\n",
              "      <th>1</th>\n",
              "      <td>knn</td>\n",
              "      <td>bow</td>\n",
              "      <td>0.695917</td>\n",
              "      <td>51</td>\n",
              "    </tr>\n",
              "    <tr>\n",
              "      <th>2</th>\n",
              "      <td>lr</td>\n",
              "      <td>bow</td>\n",
              "      <td>0.874000</td>\n",
              "      <td>1</td>\n",
              "    </tr>\n",
              "    <tr>\n",
              "      <th>3</th>\n",
              "      <td>rf</td>\n",
              "      <td>tfidf</td>\n",
              "      <td>0.832200</td>\n",
              "      <td>51</td>\n",
              "    </tr>\n",
              "    <tr>\n",
              "      <th>4</th>\n",
              "      <td>knn</td>\n",
              "      <td>tfidf</td>\n",
              "      <td>0.802167</td>\n",
              "      <td>51</td>\n",
              "    </tr>\n",
              "    <tr>\n",
              "      <th>5</th>\n",
              "      <td>lr</td>\n",
              "      <td>tfidf</td>\n",
              "      <td>0.885083</td>\n",
              "      <td>1</td>\n",
              "    </tr>\n",
              "    <tr>\n",
              "      <th>6</th>\n",
              "      <td>lr</td>\n",
              "      <td>bow</td>\n",
              "      <td>0.872750</td>\n",
              "      <td>1</td>\n",
              "    </tr>\n",
              "  </tbody>\n",
              "</table>\n",
              "</div>\n",
              "      <button class=\"colab-df-convert\" onclick=\"convertToInteractive('df-c9ed2045-09ef-454a-9e36-45368ff48092')\"\n",
              "              title=\"Convert this dataframe to an interactive table.\"\n",
              "              style=\"display:none;\">\n",
              "        \n",
              "  <svg xmlns=\"http://www.w3.org/2000/svg\" height=\"24px\"viewBox=\"0 0 24 24\"\n",
              "       width=\"24px\">\n",
              "    <path d=\"M0 0h24v24H0V0z\" fill=\"none\"/>\n",
              "    <path d=\"M18.56 5.44l.94 2.06.94-2.06 2.06-.94-2.06-.94-.94-2.06-.94 2.06-2.06.94zm-11 1L8.5 8.5l.94-2.06 2.06-.94-2.06-.94L8.5 2.5l-.94 2.06-2.06.94zm10 10l.94 2.06.94-2.06 2.06-.94-2.06-.94-.94-2.06-.94 2.06-2.06.94z\"/><path d=\"M17.41 7.96l-1.37-1.37c-.4-.4-.92-.59-1.43-.59-.52 0-1.04.2-1.43.59L10.3 9.45l-7.72 7.72c-.78.78-.78 2.05 0 2.83L4 21.41c.39.39.9.59 1.41.59.51 0 1.02-.2 1.41-.59l7.78-7.78 2.81-2.81c.8-.78.8-2.07 0-2.86zM5.41 20L4 18.59l7.72-7.72 1.47 1.35L5.41 20z\"/>\n",
              "  </svg>\n",
              "      </button>\n",
              "      \n",
              "  <style>\n",
              "    .colab-df-container {\n",
              "      display:flex;\n",
              "      flex-wrap:wrap;\n",
              "      gap: 12px;\n",
              "    }\n",
              "\n",
              "    .colab-df-convert {\n",
              "      background-color: #E8F0FE;\n",
              "      border: none;\n",
              "      border-radius: 50%;\n",
              "      cursor: pointer;\n",
              "      display: none;\n",
              "      fill: #1967D2;\n",
              "      height: 32px;\n",
              "      padding: 0 0 0 0;\n",
              "      width: 32px;\n",
              "    }\n",
              "\n",
              "    .colab-df-convert:hover {\n",
              "      background-color: #E2EBFA;\n",
              "      box-shadow: 0px 1px 2px rgba(60, 64, 67, 0.3), 0px 1px 3px 1px rgba(60, 64, 67, 0.15);\n",
              "      fill: #174EA6;\n",
              "    }\n",
              "\n",
              "    [theme=dark] .colab-df-convert {\n",
              "      background-color: #3B4455;\n",
              "      fill: #D2E3FC;\n",
              "    }\n",
              "\n",
              "    [theme=dark] .colab-df-convert:hover {\n",
              "      background-color: #434B5C;\n",
              "      box-shadow: 0px 1px 3px 1px rgba(0, 0, 0, 0.15);\n",
              "      filter: drop-shadow(0px 1px 2px rgba(0, 0, 0, 0.3));\n",
              "      fill: #FFFFFF;\n",
              "    }\n",
              "  </style>\n",
              "\n",
              "      <script>\n",
              "        const buttonEl =\n",
              "          document.querySelector('#df-c9ed2045-09ef-454a-9e36-45368ff48092 button.colab-df-convert');\n",
              "        buttonEl.style.display =\n",
              "          google.colab.kernel.accessAllowed ? 'block' : 'none';\n",
              "\n",
              "        async function convertToInteractive(key) {\n",
              "          const element = document.querySelector('#df-c9ed2045-09ef-454a-9e36-45368ff48092');\n",
              "          const dataTable =\n",
              "            await google.colab.kernel.invokeFunction('convertToInteractive',\n",
              "                                                     [key], {});\n",
              "          if (!dataTable) return;\n",
              "\n",
              "          const docLinkHtml = 'Like what you see? Visit the ' +\n",
              "            '<a target=\"_blank\" href=https://colab.research.google.com/notebooks/data_table.ipynb>data table notebook</a>'\n",
              "            + ' to learn more about interactive tables.';\n",
              "          element.innerHTML = '';\n",
              "          dataTable['output_type'] = 'display_data';\n",
              "          await google.colab.output.renderOutput(dataTable, element);\n",
              "          const docLink = document.createElement('div');\n",
              "          docLink.innerHTML = docLinkHtml;\n",
              "          element.appendChild(docLink);\n",
              "        }\n",
              "      </script>\n",
              "    </div>\n",
              "  </div>\n",
              "  "
            ]
          },
          "metadata": {},
          "execution_count": 26
        }
      ]
    },
    {
      "cell_type": "markdown",
      "source": [
        "Uma vez encontrado o melhor modelo, vamos retreiná-lo e medir as performances de acurácia, f1, precisão e revocação, utilizando o classification report do sklearn."
      ],
      "metadata": {
        "id": "uD2Tb1-CaGWZ"
      }
    },
    {
      "cell_type": "code",
      "source": [
        "from sklearn.metrics import classification_report\n",
        "\n",
        "lr = LogisticRegression(max_iter=10000)\n",
        "lr.fit(Xtreino_tfidf, ytreino)\n",
        "\n",
        "print(classification_report(yteste, lr.predict(Xteste_tfidf)))"
      ],
      "metadata": {
        "colab": {
          "base_uri": "https://localhost:8080/"
        },
        "id": "IzGlMSdIaPpa",
        "outputId": "148b3cbb-dc45-4c2c-cc01-b853ec84662d"
      },
      "execution_count": 28,
      "outputs": [
        {
          "output_type": "stream",
          "name": "stdout",
          "text": [
            "              precision    recall  f1-score   support\n",
            "\n",
            "           0       0.90      0.87      0.88      6006\n",
            "           1       0.87      0.90      0.89      5994\n",
            "\n",
            "    accuracy                           0.89     12000\n",
            "   macro avg       0.89      0.89      0.89     12000\n",
            "weighted avg       0.89      0.89      0.89     12000\n",
            "\n"
          ]
        }
      ]
    },
    {
      "cell_type": "code",
      "source": [
        "from sklearn.metrics import plot_confusion_matrix\n",
        "\n",
        "plot_confusion_matrix(lr, Xteste_tfidf, yteste)"
      ],
      "metadata": {
        "colab": {
          "base_uri": "https://localhost:8080/",
          "height": 351
        },
        "id": "1KRxS9gClAmI",
        "outputId": "a3c9764a-06d5-4c82-ca49-56009394aaac"
      },
      "execution_count": 30,
      "outputs": [
        {
          "output_type": "stream",
          "name": "stderr",
          "text": [
            "/usr/local/lib/python3.7/dist-packages/sklearn/utils/deprecation.py:87: FutureWarning: Function plot_confusion_matrix is deprecated; Function `plot_confusion_matrix` is deprecated in 1.0 and will be removed in 1.2. Use one of the class methods: ConfusionMatrixDisplay.from_predictions or ConfusionMatrixDisplay.from_estimator.\n",
            "  warnings.warn(msg, category=FutureWarning)\n"
          ]
        },
        {
          "output_type": "execute_result",
          "data": {
            "text/plain": [
              "<sklearn.metrics._plot.confusion_matrix.ConfusionMatrixDisplay at 0x7fe7c7829e10>"
            ]
          },
          "metadata": {},
          "execution_count": 30
        },
        {
          "output_type": "display_data",
          "data": {
            "text/plain": [
              "<Figure size 432x288 with 2 Axes>"
            ],
            "image/png": "[encoded data removed]"
          },
          "metadata": {
            "needs_background": "light"
          }
        }
      ]
    },
    {
      "cell_type": "markdown",
      "source": [
        "Dentre as abordagens testadas, Regressão Logística foi a que obteve melhor resultado, com o préprocessamento realizado utilizando TFIDF."
      ],
      "metadata": {
        "id": "ry70tAe_lRcq"
      }
    }
  ]
}