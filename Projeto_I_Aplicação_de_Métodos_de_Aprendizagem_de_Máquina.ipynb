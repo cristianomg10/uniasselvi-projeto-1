{
  "nbformat": 4,
  "nbformat_minor": 0,
  "metadata": {
    "colab": {
      "name": "Projeto I - Aplicação de Métodos de Aprendizagem de Máquina",
      "provenance": [],
      "authorship_tag": "ABX9TyMu0Q5q7XdEcr+zqrbmGBYS",
      "include_colab_link": true
    },
    "kernelspec": {
      "name": "python3",
      "display_name": "Python 3"
    },
    "language_info": {
      "name": "python"
    }
  },
  "cells": [
    {
      "cell_type": "markdown",
      "metadata": {
        "id": "view-in-github",
        "colab_type": "text"
      },
      "source": [
        "<a href=\"https://colab.research.google.com/github/cristianomg10/uniasselvi-projeto-1/blob/etapa1/Projeto_I_Aplica%C3%A7%C3%A3o_de_M%C3%A9todos_de_Aprendizagem_de_M%C3%A1quina.ipynb\" target=\"_parent\"><img src=\"https://colab.research.google.com/assets/colab-badge.svg\" alt=\"Open In Colab\"/></a>"
      ]
    },
    {
      "cell_type": "markdown",
      "source": [
        "# Projeto I - Aplicação de Métodos de Aprendizagem de Máquina\n",
        "\n",
        "**Estudante**: Cristiano M. Garcia (Matrícula: 2874011)\n",
        "\n",
        "**Curso**: Big Data e Inteligência Analítica\n",
        "\n",
        "## Introdução e Fundamentação Teórica\n",
        "\n",
        "### Definição do Tema\n",
        "A análise de sentimentos constitui uma tarefa fundamental para empresas e instituições que querem fazer um acompanhamento mais preciso em relação à opinião sobre seus produtos/serviços. Muitas vezes, a avaliação categórica por parte do usuário (por exemplo, em sites que permitem a avaliação pelo número de estrelas, de 1 a 5) pode ser enganosa. Com frequência, pode-se encontrar informações conflitantes, em que o texto tem um sentimento e a avaliação, um \"sentimento\" oposto. Por exemplo: \"Amei\", categorizado em 1 estrela. Desta forma, quando possível, uma avaliação considerando o texto fornecido na avaliação pode fornecer informações mais precisas sobre a opinião em relação ao produto.\n",
        "\n",
        "### Objetivo\n",
        "Neste projeto, será realizado a geração de um modelo de classificação utilizando o conjunto de dados de **IMDB Movie Rating**. Para ser mais específico, a ideia é realizar uma análise de sentimentos, ou seja, de acordo com o texto, o modelo deverá retornar **0 ou 1**, sendo 0 para negativo e 1, positivo.\n",
        "\n",
        "### Especificação Técnica\n",
        "O conjunto de dados está no formato _.csv_ e é relativamente simples, contendo apenas 2 colunas:\n",
        "* **text**, correspondendo ao texto digitado na review;\n",
        "* **label**, que corresponde ao sentimento em si (0 - negativo, 1 - positivo)\n",
        "\n",
        "Este conjunto de dados foi obtido no [Kaggle](https://www.kaggle.com/datasets/yasserh/imdb-movie-ratings-sentiment-analysis). Ele contém 39723 registros e está balanceado quase em 50%/50%, sendo 20019 registros negativos e 19981 registros positivos. Esse balanceamento já é de grande ajuda para os algoritmos de aprendizado de máquina, pois dados desbalanceados costumam confundir até mesmo a avaliação de performance.\n",
        "\n",
        "Serão utilizados os algoritmos Naïve Bayes, KNN, Floresta Aleatória e (Long Short Term Memory) LSTM.\n",
        "\n",
        "#### Pré-processamento\n",
        "A base será pré-processada, removendo pontuação, convertendo todos os números para um único número, todas as palavras serão convertidas para minúsculo.\n",
        "\n",
        "Haverá algumas diferenças:\n",
        "1. Para abordagens rasas (Naïve Bayes, KNN e Floresta Aleatória), será utilizado Lemmatização e Stemming (não simultaneamente) para padronização das palavras. Além disso, as stopwords serão removidas. Será utilizando ainda transformação para Bag-of-Words e TF-IDF;\n",
        "2. Para a abordagem _deep_ (LSTM), não haverá o pré-processamento mencionado no item 1, pois as mesmas não são utilizados com _Deep Learning_.\n",
        "\n",
        "#### Tarefa de Aprendizado de Máquina\n",
        "A tarefa de Aprendizado de Máquina adequada para este trabalho é a **classificação**.\n",
        "\n",
        "#### Avaliação \n",
        "\n",
        "Os algoritmos serão avaliados em termos de acurácia, precisão, revocação e F1-score, sendo estas métricas adequadas para tarefas de **classificação**.\n",
        "\n",
        "### Trabalhos Relacionados\n",
        "\n",
        "Pesquisando alguns trabalhos relacionados, como o trabalho [1], que utilizou o mesmo dataset em uma versão mais antiga, com 40000 registros, abordagens de *Deep Learning* foram testadas (CNN, LSTM e a combinação de ambos), sendo a combinação a única a ultrapassar 90% de Precisão e pouco mais de 85% de F1-Score. Outro trabalho [2] comparou SVM, Maximum Entropy, Naïve Bayes e KNN, sendo a abordagem mais performática o Maximum Entropy. Já o trabalho [3] utilizou combinações de componentes de *Deep Learning* para gerar diferentes arquiteturas, em que alcançou um resultado de acurácia de 89.5%. Vários outros trabalhos podem ser encontrados na Literatura.\n",
        "\n",
        "Conhecer alguns trabalhos relacionados ajuda na definição de um *baseline* e em um posicionamento das expectativas a serem alcançadas. Neste sentido, o único trabalho dos 3 acima que utilizou abordagens não-Deep (*shallow*) foi o [1], em que Naïve Bayes atingiu quase 90% de acurácia e SVM ficou próximo de 75%.\n",
        "\n",
        "## Referências (deveria estar no fim mas acho que não tem problema)\n",
        "\n",
        "[1] REHMAN, Anwar Ur et al. A hybrid CNN-LSTM model for improving accuracy of movie reviews sentiment analysis. Multimedia Tools and Applications, v. 78, n. 18, p. 26597-26613, 2019.\n",
        "\n",
        "[2] KUMAR, H. M.; HARISH, B. S.; DARSHAN, H. K. Sentiment Analysis on IMDb Movie Reviews Using Hybrid Feature Extraction Method. International Journal of Interactive Multimedia & Artificial Intelligence, v. 5, n. 5, 2019.\n",
        "\n",
        "[3] YENTER, Alec; VERMA, Abhishek. Deep CNN-LSTM with combined kernels from multiple branches for IMDb review sentiment analysis. In: 2017 IEEE 8th Annual Ubiquitous Computing, Electronics and Mobile Communication Conference (UEMCON). IEEE, 2017. p. 540-546.\n"
      ],
      "metadata": {
        "id": "aXKbF_dlefbt"
      }
    },
    {
      "cell_type": "code",
      "execution_count": null,
      "metadata": {
        "id": "I1xB2aSrcpW2"
      },
      "outputs": [],
      "source": [
        ""
      ]
    }
  ]
}